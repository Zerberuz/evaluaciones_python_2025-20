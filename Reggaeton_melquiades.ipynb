{
  "nbformat": 4,
  "nbformat_minor": 0,
  "metadata": {
    "colab": {
      "provenance": [],
      "authorship_tag": "ABX9TyMihGXP5+yViYgwlXRM69yt",
      "include_colab_link": true
    },
    "kernelspec": {
      "name": "python3",
      "display_name": "Python 3"
    },
    "language_info": {
      "name": "python"
    }
  },
  "cells": [
    {
      "cell_type": "markdown",
      "metadata": {
        "id": "view-in-github",
        "colab_type": "text"
      },
      "source": [
        "<a href=\"https://colab.research.google.com/github/Zerberuz/evaluaciones_python_2025-20/blob/main/Reggaeton_melquiades.ipynb\" target=\"_parent\"><img src=\"https://colab.research.google.com/assets/colab-badge.svg\" alt=\"Open In Colab\"/></a>"
      ]
    },
    {
      "cell_type": "markdown",
      "source": [
        "# Prueba 1\n",
        "## Python aplicado a la Ingeniería 202520\n",
        "**Docente:** Miguel Ortiz\n",
        "\n",
        "**Estudiante:** Camilo Ernesto Calderin Ogaza\n",
        "\n",
        "**email:** camilo.calderino@upb.edu.co\n",
        "\n",
        "**Fecha:** 21/07/2025"
      ],
      "metadata": {
        "id": "dcrzOnLrGCtD"
      }
    },
    {
      "cell_type": "markdown",
      "source": [
        "**Problema 1:** Reggaeton de Melquiades\n",
        "\n",
        "Escriba un programa que genere una canción de Reggaeton utilizando el algoritmo de Melquiades"
      ],
      "metadata": {
        "id": "RnLrXSwTJt8F"
      }
    },
    {
      "cell_type": "code",
      "execution_count": 1,
      "metadata": {
        "id": "ZWQVkoCXaa-N",
        "colab": {
          "base_uri": "https://localhost:8080/"
        },
        "outputId": "43400fd6-5c5a-4377-d15b-e5c61762b11d"
      },
      "outputs": [
        {
          "output_type": "stream",
          "name": "stdout",
          "text": [
            "Mami yo puedo ligar lento todo el día sin miedo \n"
          ]
        }
      ],
      "source": [
        "import random\n",
        "\n",
        "subject = [\"Mami\", \"Bebé\", \"Princess\"]\n",
        "intention = [\"yo quiero\", \"yo puedo\", \"yo vengo a\", \"voy a\"]\n",
        "action = [\"encendelte\", \"amalte\", \"ligar\", \"jugar\"]\n",
        "adjective = [\"suave\", \"lento\", \"rápido\", \"fuerte\"]\n",
        "compl_1 = [\"hasta que salga el sol\", \"toda la noche\", \"hasta el amanecer\", \"todo el día\"]\n",
        "compl_2 = [\"sin anestecia\", \"sin compromiso\", \"feis to feis\", \"sin miedo\"]\n",
        "\n",
        "elements = [subject, intention, action, adjective, compl_1, compl_2]\n",
        "\n",
        "song = \"\"\n",
        "for element in elements:\n",
        "    song += random.choice(element) + \" \"\n",
        "\n",
        "print(song)"
      ]
    }
  ]
}