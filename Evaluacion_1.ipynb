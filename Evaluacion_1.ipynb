{
  "nbformat": 4,
  "nbformat_minor": 0,
  "metadata": {
    "colab": {
      "provenance": [],
      "authorship_tag": "ABX9TyM7sjQHkQtkCYiU3lm+VMf2",
      "include_colab_link": true
    },
    "kernelspec": {
      "name": "python3",
      "display_name": "Python 3"
    },
    "language_info": {
      "name": "python"
    }
  },
  "cells": [
    {
      "cell_type": "markdown",
      "metadata": {
        "id": "view-in-github",
        "colab_type": "text"
      },
      "source": [
        "<a href=\"https://colab.research.google.com/github/Zerberuz/evaluaciones_python_202520/blob/main/Evaluacion_1.ipynb\" target=\"_parent\"><img src=\"https://colab.research.google.com/assets/colab-badge.svg\" alt=\"Open In Colab\"/></a>"
      ]
    },
    {
      "cell_type": "markdown",
      "source": [
        "# Evaluacion 1\n",
        "## Python aplicado a la Ingeniería 202520\n",
        "**Docente:** Miguel Ortiz\n",
        "\n",
        "**Estudiante:** Camilo Ernesto Calderin Ogaza\n",
        "\n",
        "**email:** camilo.calderino@upb.edu.co\n",
        "\n",
        "**Fecha:** 30/07/2025"
      ],
      "metadata": {
        "id": "XQk1hRMg19RB"
      }
    },
    {
      "cell_type": "markdown",
      "source": [
        "**Problem #1: letter_frequency**\n",
        "\n",
        "Escriba un programa que reciba una sentencia del usuario y muestre cuántas veces aparece cada letra única. Ignore los espacios y haga que la comparación no distinga entre mayúsculas y minúsculas (es decir, trate «A» y «a» como la misma letra).\n",
        "Extra: Muestre los resultados ordenados de la letra más frecuente a la menos frecuente."
      ],
      "metadata": {
        "id": "8RwOO9Ee2E-G"
      }
    },
    {
      "cell_type": "code",
      "execution_count": 1,
      "metadata": {
        "colab": {
          "base_uri": "https://localhost:8080/"
        },
        "id": "o6kLtGnH1yfn",
        "outputId": "a2e0fd89-eed4-4855-d555-efae3e4ec174"
      },
      "outputs": [
        {
          "output_type": "stream",
          "name": "stdout",
          "text": [
            "{'h': 1, 'o': 3, 'l': 1, 'a': 3, 'v': 1, 't': 1, 'm': 1, 'u': 1, 'n': 1, 'd': 1}\n",
            "{'h': 1, 'o': 3, 'l': 1, 'a': 3, 'v': 1, 't': 1, 'm': 1, 'u': 1, 'n': 1, 'd': 1}\n",
            "o: 3\n",
            "a: 3\n",
            "h: 1\n",
            "l: 1\n",
            "v: 1\n",
            "t: 1\n",
            "m: 1\n",
            "u: 1\n",
            "n: 1\n",
            "d: 1\n"
          ]
        }
      ],
      "source": [
        "#EJERCICIO 1\n",
        "#input (frase)\n",
        "frase = \"hola AvO tA mundo\"\n",
        "#process\n",
        "def contar_letras(frase):\n",
        "    #diccionario para almacenar el conteo de letras\n",
        "    uso = {}\n",
        "    for letra in frase:\n",
        "        #convertir letras a minúsculas para evitar duplicados por mayúsculas\n",
        "        letra = letra.lower()\n",
        "        #condicion para contar no contar los espacios\n",
        "        if letra != \" \":\n",
        "            #si la letra ya está en el diccionario, incrementamos su conteo\n",
        "            if letra in uso:\n",
        "                uso[letra] += 1\n",
        "            #si la letra no está en el diccionario, la agregamos con un conteo de 1\n",
        "            else:\n",
        "                uso[letra] = 1\n",
        "    return uso\n",
        "#output\n",
        "#resultado esperado\n",
        "expected_output1 = {\"h\": 1, \"o\": 3, \"l\": 1, \"a\": 3, \"v\": 1, \"t\": 1, \"m\": 1, \"u\": 1, \"n\": 1, \"d\": 1}\n",
        "print(expected_output1)\n",
        "#mostras el conteo desde el llamado de la funcion\n",
        "print(contar_letras(frase))\n",
        "#ordenar el resultado de mayor a menor\n",
        "resultado = contar_letras(frase)\n",
        "for letra, conteo in sorted(resultado.items(), key=lambda x: x[1], reverse=True):\n",
        "    print(f\"{letra}: {conteo}\")"
      ]
    },
    {
      "cell_type": "markdown",
      "source": [
        "**Problem #2: word_initial_count**\n",
        "\n",
        "Escriba un programa que reciba una lista de palabras y cuente cuántas empiezan con la misma letra inicial. Ignore las mayúsculas y minúsculas."
      ],
      "metadata": {
        "id": "c2RiCRTO2cv7"
      }
    },
    {
      "cell_type": "code",
      "source": [
        "#EJERCICIO 2\n",
        "#input lista de palabras\n",
        "words = [ \"software\" , \"Python\" ,\"programacion\", \"desarrollo\", \"software\",\"Python\"]\n",
        "\n",
        "#process\n",
        "#funcion para contrar las palabras dentro de la lista\n",
        "def count_inciales(words_list):\n",
        "    word_count = {}\n",
        "    # Definimos un diccionario vacío para almacenar las palabras y sus contadores\n",
        "    for letter in words_list:\n",
        "         #designamos la primera letra de cada palabra\n",
        "         letter = letter[0].title()\n",
        "         if letter in word_count:\n",
        "            # Si la letra ya está en el diccionario, incrementa su contador\n",
        "            word_count[letter] += 1\n",
        "            # Si la letra no se repite, se agrega con un contador de 1\n",
        "         else:\n",
        "             word_count[letter] = 1\n",
        "# Devolver el diccionario con las palabras y sus contadores\n",
        "    return word_count\n",
        "\n",
        "#output\n",
        "#resultado esperado\n",
        "expected_output2 = {\"S\": 2, \"P\": 3, \"D\": 1}\n",
        "print(expected_output2)\n",
        "# Imprimir el resultado conteo de iniciales\n",
        "print(count_inciales(words))\n",
        "#ordenar el resultado de mayor a menor\n",
        "resultado = count_inciales(words)\n",
        "for letra, conteo in sorted(resultado.items(), key=lambda x: x[1], reverse=True):\n",
        "   print(f\"{letra}: {conteo}\")"
      ],
      "metadata": {
        "colab": {
          "base_uri": "https://localhost:8080/"
        },
        "id": "qhSs866I3TjZ",
        "outputId": "6bb53c7f-b9af-4d03-b900-c164ebff2955"
      },
      "execution_count": 2,
      "outputs": [
        {
          "output_type": "stream",
          "name": "stdout",
          "text": [
            "{'S': 2, 'P': 3, 'D': 1}\n",
            "{'S': 2, 'P': 3, 'D': 1}\n",
            "P: 3\n",
            "S: 2\n",
            "D: 1\n"
          ]
        }
      ]
    },
    {
      "cell_type": "markdown",
      "source": [
        "**Problem #3: product_price_analysis**\n",
        "\n",
        "Escriba un programa que reciba un diccionario de productos. Cada producto tiene un código único como clave, y su valor es otro diccionario que contiene un «nombre» y un «precio». El programa debe mostrar el nombre y el precio del producto más barato y del más caro."
      ],
      "metadata": {
        "id": "2O_A_g_83iyY"
      }
    },
    {
      "cell_type": "markdown",
      "source": [],
      "metadata": {
        "id": "-7Fb9Hy-3ttK"
      }
    }
  ]
}